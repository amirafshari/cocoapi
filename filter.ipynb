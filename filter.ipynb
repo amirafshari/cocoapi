{
 "cells": [
  {
   "cell_type": "code",
   "execution_count": null,
   "metadata": {},
   "outputs": [],
   "source": [
    "import json\n",
    "import shutil\n",
    "import os\n",
    "import numpy as np"
   ]
  },
  {
   "attachments": {},
   "cell_type": "markdown",
   "metadata": {},
   "source": [
    "# Extract Categories"
   ]
  },
  {
   "cell_type": "code",
   "execution_count": null,
   "metadata": {},
   "outputs": [],
   "source": [
    "cat_ids = [2,3,4,6,8, 16,17,18, 27,28,31,33, 62,63,69, 73,77, 84] # [bird,cat,dog, backpack,umbrella,handbag,suitcase, chair,couch,dining table, ,laptop,cellphone,book]\n",
    "new_ann_path = 'new_instances_train2017.json'\n",
    "coco_json_path = 'instances_train2017.json'\n",
    "\n",
    "f = open(coco_json_path)\n",
    "data = json.load(f)\n",
    "\n",
    "new_annotations = {}\n",
    "# find images with certain categories\n",
    "for ann in data['annotations']:\n",
    "    if ann['category_id'] in cat_ids:\n",
    "        image_id = str(ann['image_id'])        \n",
    "        category_id = ann['category_id']\n",
    "        bbox = ann['bbox']\n",
    "        \n",
    "        try:\n",
    "            new_annotations[image_id][0]['category_id'].append(category_id)\n",
    "            new_annotations[image_id][0]['bbox'].append(bbox)\n",
    "        except KeyError:\n",
    "            new_annotations[image_id] = []\n",
    "            new_annotations[image_id].append({'category_id': [category_id], 'bbox': [bbox]})\n",
    "            \n",
    "# find the corosponding file names\n",
    "for key in new_annotations.keys():\n",
    "    for img in data['images']:\n",
    "        if key == str(img['id']):\n",
    "            new_annotations[key][0]['file_name'] = img['file_name']\n",
    "            new_annotations[key][0]['height'] = img['height']\n",
    "            new_annotations[key][0]['width'] = img['width']\n",
    "\n",
    "json = json.dumps(new_annotations)\n",
    "f = open(new_ann_path,\"w\")\n",
    "f.write(json)"
   ]
  },
  {
   "attachments": {},
   "cell_type": "markdown",
   "metadata": {},
   "source": [
    "# Copy Images"
   ]
  },
  {
   "cell_type": "code",
   "execution_count": null,
   "metadata": {},
   "outputs": [],
   "source": [
    "new_img_path = 'new_train'\n",
    "\n",
    "f = open(new_ann_path)\n",
    "data = json.load(f)\n",
    "for e in data.values():\n",
    "    print(e['file_name'])\n",
    "    file_name = e['file_name']\n",
    "    shutil.copy(os.path.join('train2017', file_name), os.path.join(new_img_path, file_name))"
   ]
  },
  {
   "attachments": {},
   "cell_type": "markdown",
   "metadata": {},
   "source": [
    "# Convert to YOLO"
   ]
  },
  {
   "cell_type": "code",
   "execution_count": null,
   "metadata": {},
   "outputs": [],
   "source": [
    "for e in data.values():\n",
    "    e = e[0]\n",
    "    for i, bbox in enumerate(e['bbox']):\n",
    "        xc = (bbox[0]+bbox[2])/e['width']\n",
    "        yc = (bbox[1]+bbox[3])/e['height']\n",
    "        width = bbox[2]/e['width']\n",
    "        height = bbox[3]/e['height']\n",
    "        \n",
    "        e['bbox'][i] = [e['category_id'][i], xc, yc, width, height]\n",
    "        \n",
    "    np.savetxt(e['file_name'][:-4]+'.txt', e['bbox'], fmt='%.10g')"
   ]
  }
 ],
 "metadata": {
  "kernelspec": {
   "display_name": "Python 3",
   "language": "python",
   "name": "python3"
  },
  "language_info": {
   "codemirror_mode": {
    "name": "ipython",
    "version": 3
   },
   "file_extension": ".py",
   "mimetype": "text/x-python",
   "name": "python",
   "nbconvert_exporter": "python",
   "pygments_lexer": "ipython3",
   "version": "3.8.10 (default, Nov 14 2022, 12:59:47) \n[GCC 9.4.0]"
  },
  "orig_nbformat": 4,
  "vscode": {
   "interpreter": {
    "hash": "e7370f93d1d0cde622a1f8e1c04877d8463912d04d973331ad4851f04de6915a"
   }
  }
 },
 "nbformat": 4,
 "nbformat_minor": 2
}
